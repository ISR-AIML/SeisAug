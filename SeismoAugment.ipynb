{
 "cells": [
  {
   "cell_type": "code",
   "execution_count": null,
   "id": "920595fc",
   "metadata": {},
   "outputs": [],
   "source": []
  },
  {
   "cell_type": "markdown",
   "id": "249c7d4c",
   "metadata": {},
   "source": [
    "# Add White - Pink Noise"
   ]
  },
  {
   "cell_type": "code",
   "execution_count": 1,
   "id": "7ba02ae6",
   "metadata": {
    "scrolled": false
   },
   "outputs": [
    {
     "data": {
      "application/vnd.jupyter.widget-view+json": {
       "model_id": "8017cf0c19bd461ba715f3af4699a695",
       "version_major": 2,
       "version_minor": 0
      },
      "text/plain": [
       "interactive(children=(RadioButtons(description='Noise Type:', options=('White', 'Pink'), value='White'), IntSl…"
      ]
     },
     "metadata": {},
     "output_type": "display_data"
    }
   ],
   "source": [
    "import numpy as np\n",
    "import matplotlib.pyplot as plt\n",
    "from obspy import read\n",
    "from noise_functions_m import add_noise, add_pink_noise\n",
    "from ipywidgets import interact, RadioButtons, IntSlider\n",
    "import os\n",
    "\n",
    "def plot_waveforms_and_spectrograms(noise_type, noise_level_db):\n",
    "    file_path = os.path.join(os.getcwd(), 'data/2015-01-20-1711-04M.SJX___003_uni') # load file\n",
    "    st = read(file_path)\n",
    "\n",
    "    if noise_type == 'White':\n",
    "        for tr in st:\n",
    "            tr.data = add_noise(tr.data, noise_level_db=noise_level_db)\n",
    "    elif noise_type == 'Pink':\n",
    "        for tr in st:\n",
    "            tr.data = add_pink_noise(tr.data, noise_level_db=noise_level_db)\n",
    "\n",
    "    \n",
    "    plt.figure(figsize=(12, 6))\n",
    "    st[0].plot()\n",
    "    st[0].spectrogram(log=False)\n",
    "\n",
    "\n",
    "noise_type_selector = RadioButtons(options=['White', 'Pink'], description='Noise Type:')\n",
    "noise_level_slider = IntSlider(min=0, max=100, step=1, value=60, description='Noise Level (dB):')\n",
    "\n",
    "interact(plot_waveforms_and_spectrograms,\n",
    "         noise_type=noise_type_selector,\n",
    "         noise_level_db=noise_level_slider);\n"
   ]
  },
  {
   "cell_type": "code",
   "execution_count": null,
   "id": "ebd03435",
   "metadata": {},
   "outputs": [],
   "source": []
  },
  {
   "cell_type": "markdown",
   "id": "843a8d75",
   "metadata": {},
   "source": [
    "# Perodic and Non Perodic Noise"
   ]
  },
  {
   "cell_type": "code",
   "execution_count": 3,
   "id": "ce274662",
   "metadata": {},
   "outputs": [
    {
     "data": {
      "application/vnd.jupyter.widget-view+json": {
       "model_id": "f756d810ffc74126b085ce493db05b48",
       "version_major": 2,
       "version_minor": 0
      },
      "text/plain": [
       "interactive(children=(RadioButtons(description='noise_type', options=('Monofrequency', 'Bandpass'), value='Mon…"
      ]
     },
     "metadata": {},
     "output_type": "display_data"
    }
   ],
   "source": [
    "import numpy as np\n",
    "import matplotlib.pyplot as plt\n",
    "from obspy import read\n",
    "from scipy import signal\n",
    "import os\n",
    "from ipywidgets import interact, RadioButtons\n",
    "from noise_functions_m import add_monofrequency_noise, add_bandpass_noise\n",
    "\n",
    "\n",
    "def interactive_plot(noise_type, noise_level_db, freq, low_freq, high_freq):\n",
    "    file_path = os.path.join(os.getcwd(), 'data/2015-01-20-1711-04M.SJX___003_uni') # load file\n",
    "    st = read(file_path)\n",
    "    st_copy = st.copy()\n",
    "    fs = st_copy[0].stats.sampling_rate\n",
    "\n",
    "\n",
    "    for tr in st_copy:\n",
    "        if noise_type == 'Monofrequency':\n",
    "            tr.data = add_monofrequency_noise(tr.data, noise_level_db=noise_level_db, fs=fs, freq=freq)\n",
    "        elif noise_type == 'Bandpass':\n",
    "            tr.data = add_bandpass_noise(tr.data, noise_level_db=noise_level_db, fs=fs, low_freq=low_freq, high_freq=high_freq)\n",
    "\n",
    "    \n",
    "    st_copy[0].plot();\n",
    "    st_copy[2].spectrogram(log=False)\n",
    "\n",
    "interact(interactive_plot, noise_type=RadioButtons(options=['Monofrequency', 'Bandpass']), noise_level_db=(0, 100, 1), freq=(1, 50, 1), low_freq=(1, 25, 1), high_freq=(26, 50, 1));\n"
   ]
  },
  {
   "cell_type": "markdown",
   "id": "779d01a1",
   "metadata": {},
   "source": [
    "# Add spikes"
   ]
  },
  {
   "cell_type": "code",
   "execution_count": 4,
   "id": "dcc164d9",
   "metadata": {},
   "outputs": [
    {
     "data": {
      "application/vnd.jupyter.widget-view+json": {
       "model_id": "9074b3b275754712b242cdde92203d69",
       "version_major": 2,
       "version_minor": 0
      },
      "text/plain": [
       "interactive(children=(IntSlider(value=50, description='num_spikes', min=1), FloatSlider(value=0.5, description…"
      ]
     },
     "metadata": {},
     "output_type": "display_data"
    }
   ],
   "source": [
    "from noise_functions_m import add_spikes\n",
    "from ipywidgets import interact\n",
    "\n",
    "# Create interactive sliders for number of spikes and spike amplitude ratio\n",
    "interact(add_spikes, num_spikes=(1, 100, 1), spike_amp_ratio=(0.1, 1, 0.1), \n",
    "         file_path = os.path.join(os.getcwd(), 'data/2015-01-20-1711-04M.SJX___003_uni'));\n"
   ]
  },
  {
   "cell_type": "markdown",
   "id": "aef2c066",
   "metadata": {},
   "source": [
    "# Time shift"
   ]
  },
  {
   "cell_type": "code",
   "execution_count": 5,
   "id": "eddab888",
   "metadata": {},
   "outputs": [
    {
     "data": {
      "application/vnd.jupyter.widget-view+json": {
       "model_id": "59af7f19ca4b4ea2a23cd5e10d34a0dd",
       "version_major": 2,
       "version_minor": 0
      },
      "text/plain": [
       "interactive(children=(IntSlider(value=15, description='seconds', max=30, min=1), Output()), _dom_classes=('wid…"
      ]
     },
     "metadata": {},
     "output_type": "display_data"
    }
   ],
   "source": [
    "from noise_functions_m import time_shift\n",
    "from obspy import read\n",
    "from ipywidgets import interact,fixed\n",
    "import os\n",
    "\n",
    "\n",
    "file_path = os.path.join(os.getcwd(), 'data/2015-01-20-1711-04M.SJX___003_uni')\n",
    "st = read(file_path)\n",
    "trace = st[0]\n",
    "\n",
    "interact(time_shift, trace=fixed(trace), seconds=(1, 30, 1));\n"
   ]
  },
  {
   "cell_type": "markdown",
   "id": "e1901171",
   "metadata": {},
   "source": [
    "# Convolute Sine & Step Wave"
   ]
  },
  {
   "cell_type": "code",
   "execution_count": 2,
   "id": "0fe7290b",
   "metadata": {
    "scrolled": false
   },
   "outputs": [
    {
     "data": {
      "application/vnd.jupyter.widget-view+json": {
       "model_id": "1a2fdac28f3c4017b40ca4065856d8ea",
       "version_major": 2,
       "version_minor": 0
      },
      "text/plain": [
       "interactive(children=(RadioButtons(description='signal_type', options=('Sine Signal', 'Step Signal'), value='S…"
      ]
     },
     "metadata": {},
     "output_type": "display_data"
    }
   ],
   "source": [
    "from signal_functions import interactive_plot, update_interactive_plot\n",
    "from ipywidgets import interact, RadioButtons\n",
    "import os\n",
    "\n",
    "interact(update_interactive_plot, signal_type=RadioButtons(options=['Sine Signal', 'Step Signal']),\n",
    "         file_path = os.path.join(os.getcwd(), 'data/2015-01-20-1711-04M.SJX___003_uni'));\n"
   ]
  },
  {
   "cell_type": "code",
   "execution_count": null,
   "id": "8a6e2c25",
   "metadata": {},
   "outputs": [],
   "source": []
  }
 ],
 "metadata": {
  "kernelspec": {
   "display_name": "easyquake",
   "language": "python",
   "name": "easyquake"
  },
  "language_info": {
   "codemirror_mode": {
    "name": "ipython",
    "version": 3
   },
   "file_extension": ".py",
   "mimetype": "text/x-python",
   "name": "python",
   "nbconvert_exporter": "python",
   "pygments_lexer": "ipython3",
   "version": "3.10.12"
  }
 },
 "nbformat": 4,
 "nbformat_minor": 5
}
